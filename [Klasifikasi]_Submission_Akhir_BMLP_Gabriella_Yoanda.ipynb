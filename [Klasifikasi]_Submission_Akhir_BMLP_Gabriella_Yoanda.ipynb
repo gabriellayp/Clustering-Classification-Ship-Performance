{
  "cells": [
    {
      "cell_type": "markdown",
      "metadata": {
        "id": "fKADPWcFKlj3"
      },
      "source": [
        "# **1. Import Library**"
      ]
    },
    {
      "cell_type": "markdown",
      "metadata": {
        "id": "LgA3ERnVn84N"
      },
      "source": [
        "Pada tahap ini, Anda perlu mengimpor beberapa pustaka (library) Python yang dibutuhkan untuk analisis data dan pembangunan model machine learning."
      ]
    },
    {
      "cell_type": "code",
      "execution_count": 43,
      "metadata": {
        "id": "BlmvjLY9M4Yj"
      },
      "outputs": [],
      "source": [
        "import pandas as pd\n",
        "import numpy as np\n",
        "import matplotlib.pyplot as plt\n",
        "import seaborn as sns\n",
        "from sklearn.model_selection import train_test_split\n",
        "from sklearn.preprocessing import StandardScaler, LabelEncoder\n",
        "from sklearn.ensemble import RandomForestClassifier\n",
        "from sklearn.svm import SVC\n",
        "from sklearn.neighbors import KNeighborsClassifier\n",
        "from sklearn.naive_bayes import GaussianNB\n",
        "from sklearn.tree import DecisionTreeClassifier\n",
        "from sklearn.metrics import accuracy_score, classification_report\n",
        "from sklearn.metrics import confusion_matrix"
      ]
    },
    {
      "cell_type": "markdown",
      "metadata": {
        "id": "f3YIEnAFKrKL"
      },
      "source": [
        "# **2. Memuat Dataset dari Hasil Clustering**"
      ]
    },
    {
      "cell_type": "markdown",
      "metadata": {
        "id": "Ey3ItwTen_7E"
      },
      "source": [
        "Memuat dataset hasil clustering dari file CSV ke dalam variabel DataFrame."
      ]
    },
    {
      "cell_type": "code",
      "execution_count": 44,
      "metadata": {
        "id": "GHCGNTyrM5fS"
      },
      "outputs": [
        {
          "data": {
            "application/vnd.microsoft.datawrangler.viewer.v0+json": {
              "columns": [
                {
                  "name": "index",
                  "rawType": "int64",
                  "type": "integer"
                },
                {
                  "name": "Date",
                  "rawType": "object",
                  "type": "string"
                },
                {
                  "name": "Ship_Type",
                  "rawType": "object",
                  "type": "string"
                },
                {
                  "name": "Route_Type",
                  "rawType": "object",
                  "type": "string"
                },
                {
                  "name": "Engine_Type",
                  "rawType": "object",
                  "type": "string"
                },
                {
                  "name": "Maintenance_Status",
                  "rawType": "object",
                  "type": "string"
                },
                {
                  "name": "Speed_Over_Ground_knots",
                  "rawType": "float64",
                  "type": "float"
                },
                {
                  "name": "Engine_Power_kW",
                  "rawType": "float64",
                  "type": "float"
                },
                {
                  "name": "Distance_Traveled_nm",
                  "rawType": "float64",
                  "type": "float"
                },
                {
                  "name": "Draft_meters",
                  "rawType": "float64",
                  "type": "float"
                },
                {
                  "name": "Weather_Condition",
                  "rawType": "object",
                  "type": "string"
                },
                {
                  "name": "Cargo_Weight_tons",
                  "rawType": "float64",
                  "type": "float"
                },
                {
                  "name": "Operational_Cost_USD",
                  "rawType": "float64",
                  "type": "float"
                },
                {
                  "name": "Revenue_per_Voyage_USD",
                  "rawType": "float64",
                  "type": "float"
                },
                {
                  "name": "Turnaround_Time_hours",
                  "rawType": "float64",
                  "type": "float"
                },
                {
                  "name": "Efficiency_nm_per_kWh",
                  "rawType": "float64",
                  "type": "float"
                },
                {
                  "name": "Seasonal_Impact_Score",
                  "rawType": "float64",
                  "type": "float"
                },
                {
                  "name": "Weekly_Voyage_Count",
                  "rawType": "float64",
                  "type": "float"
                },
                {
                  "name": "Average_Load_Percentage",
                  "rawType": "float64",
                  "type": "float"
                },
                {
                  "name": "Ship_Performance",
                  "rawType": "object",
                  "type": "string"
                }
              ],
              "conversionMethod": "pd.DataFrame",
              "ref": "8b868759-0a88-4c6c-9b3e-39f4c4d16144",
              "rows": [
                [
                  "0",
                  "2023-06-04",
                  "Container Ship",
                  "Long-haul",
                  "Heavy Fuel Oil (HFO)",
                  "Critical",
                  "12.597557515686042",
                  "2062.983982477236",
                  "1030.943615593997",
                  "14.132284071125286",
                  "Moderate",
                  "1959.017882460943",
                  "483832.3545402914",
                  "292183.27310355654",
                  "25.86707716423384",
                  "1.4551788996396922",
                  "1.415653291008493",
                  "1.0",
                  "93.76924946510128",
                  "Moderate"
                ],
                [
                  "1",
                  "2023-06-11",
                  "Fish Carrier",
                  "Short-haul",
                  "Steam Turbine",
                  "Good",
                  "10.387579878856574",
                  "1796.057415071811",
                  "1060.4863823118408",
                  "14.653082829717809",
                  "Rough",
                  "162.39471156248413",
                  "483388.0005087935",
                  "883765.7873601974",
                  "63.24819630913777",
                  "0.2903613527548066",
                  "0.8856477740728638",
                  "6.0",
                  "93.89537229627484",
                  "Low"
                ],
                [
                  "2",
                  "2023-06-18",
                  "Container Ship",
                  "Long-haul",
                  "Diesel",
                  "Fair",
                  "20.74974664420201",
                  "1648.5566845480694",
                  "658.8741441343343",
                  "7.1992613426501695",
                  "Moderate",
                  "178.0409166047114",
                  "448543.4040437852",
                  "394018.7469035761",
                  "49.41815004961628",
                  "0.4995945235825497",
                  "1.405813168988433",
                  "9.0",
                  "96.21824442784798",
                  "Low"
                ],
                [
                  "3",
                  "2023-06-25",
                  "Bulk Carrier",
                  "Transoceanic",
                  "Steam Turbine",
                  "Fair",
                  "21.055102014905927",
                  "915.2617948896436",
                  "1126.822519111847",
                  "11.789062538755967",
                  "Moderate",
                  "1737.3853461118108",
                  "261349.605449281",
                  "87551.37517514905",
                  "22.40910958000451",
                  "0.7029057082621761",
                  "1.3707042784314087",
                  "1.0",
                  "66.19369844935224",
                  "Moderate"
                ],
                [
                  "4",
                  "2023-07-02",
                  "Fish Carrier",
                  "Transoceanic",
                  "Diesel",
                  "Fair",
                  "13.742776795817988",
                  "1089.7218028286502",
                  "1445.281158929249",
                  "9.727833317955527",
                  "Moderate",
                  "260.5951033466188",
                  "287718.3751603411",
                  "676121.4596321962",
                  "64.158231375658",
                  "1.3313430927501364",
                  "0.5833833523053908",
                  "8.0",
                  "80.00858071797757",
                  "Low"
                ]
              ],
              "shape": {
                "columns": 19,
                "rows": 5
              }
            },
            "text/html": [
              "<div>\n",
              "<style scoped>\n",
              "    .dataframe tbody tr th:only-of-type {\n",
              "        vertical-align: middle;\n",
              "    }\n",
              "\n",
              "    .dataframe tbody tr th {\n",
              "        vertical-align: top;\n",
              "    }\n",
              "\n",
              "    .dataframe thead th {\n",
              "        text-align: right;\n",
              "    }\n",
              "</style>\n",
              "<table border=\"1\" class=\"dataframe\">\n",
              "  <thead>\n",
              "    <tr style=\"text-align: right;\">\n",
              "      <th></th>\n",
              "      <th>Date</th>\n",
              "      <th>Ship_Type</th>\n",
              "      <th>Route_Type</th>\n",
              "      <th>Engine_Type</th>\n",
              "      <th>Maintenance_Status</th>\n",
              "      <th>Speed_Over_Ground_knots</th>\n",
              "      <th>Engine_Power_kW</th>\n",
              "      <th>Distance_Traveled_nm</th>\n",
              "      <th>Draft_meters</th>\n",
              "      <th>Weather_Condition</th>\n",
              "      <th>Cargo_Weight_tons</th>\n",
              "      <th>Operational_Cost_USD</th>\n",
              "      <th>Revenue_per_Voyage_USD</th>\n",
              "      <th>Turnaround_Time_hours</th>\n",
              "      <th>Efficiency_nm_per_kWh</th>\n",
              "      <th>Seasonal_Impact_Score</th>\n",
              "      <th>Weekly_Voyage_Count</th>\n",
              "      <th>Average_Load_Percentage</th>\n",
              "      <th>Ship_Performance</th>\n",
              "    </tr>\n",
              "  </thead>\n",
              "  <tbody>\n",
              "    <tr>\n",
              "      <th>0</th>\n",
              "      <td>2023-06-04</td>\n",
              "      <td>Container Ship</td>\n",
              "      <td>Long-haul</td>\n",
              "      <td>Heavy Fuel Oil (HFO)</td>\n",
              "      <td>Critical</td>\n",
              "      <td>12.597558</td>\n",
              "      <td>2062.983982</td>\n",
              "      <td>1030.943616</td>\n",
              "      <td>14.132284</td>\n",
              "      <td>Moderate</td>\n",
              "      <td>1959.017882</td>\n",
              "      <td>483832.354540</td>\n",
              "      <td>292183.273104</td>\n",
              "      <td>25.867077</td>\n",
              "      <td>1.455179</td>\n",
              "      <td>1.415653</td>\n",
              "      <td>1.0</td>\n",
              "      <td>93.769249</td>\n",
              "      <td>Moderate</td>\n",
              "    </tr>\n",
              "    <tr>\n",
              "      <th>1</th>\n",
              "      <td>2023-06-11</td>\n",
              "      <td>Fish Carrier</td>\n",
              "      <td>Short-haul</td>\n",
              "      <td>Steam Turbine</td>\n",
              "      <td>Good</td>\n",
              "      <td>10.387580</td>\n",
              "      <td>1796.057415</td>\n",
              "      <td>1060.486382</td>\n",
              "      <td>14.653083</td>\n",
              "      <td>Rough</td>\n",
              "      <td>162.394712</td>\n",
              "      <td>483388.000509</td>\n",
              "      <td>883765.787360</td>\n",
              "      <td>63.248196</td>\n",
              "      <td>0.290361</td>\n",
              "      <td>0.885648</td>\n",
              "      <td>6.0</td>\n",
              "      <td>93.895372</td>\n",
              "      <td>Low</td>\n",
              "    </tr>\n",
              "    <tr>\n",
              "      <th>2</th>\n",
              "      <td>2023-06-18</td>\n",
              "      <td>Container Ship</td>\n",
              "      <td>Long-haul</td>\n",
              "      <td>Diesel</td>\n",
              "      <td>Fair</td>\n",
              "      <td>20.749747</td>\n",
              "      <td>1648.556685</td>\n",
              "      <td>658.874144</td>\n",
              "      <td>7.199261</td>\n",
              "      <td>Moderate</td>\n",
              "      <td>178.040917</td>\n",
              "      <td>448543.404044</td>\n",
              "      <td>394018.746904</td>\n",
              "      <td>49.418150</td>\n",
              "      <td>0.499595</td>\n",
              "      <td>1.405813</td>\n",
              "      <td>9.0</td>\n",
              "      <td>96.218244</td>\n",
              "      <td>Low</td>\n",
              "    </tr>\n",
              "    <tr>\n",
              "      <th>3</th>\n",
              "      <td>2023-06-25</td>\n",
              "      <td>Bulk Carrier</td>\n",
              "      <td>Transoceanic</td>\n",
              "      <td>Steam Turbine</td>\n",
              "      <td>Fair</td>\n",
              "      <td>21.055102</td>\n",
              "      <td>915.261795</td>\n",
              "      <td>1126.822519</td>\n",
              "      <td>11.789063</td>\n",
              "      <td>Moderate</td>\n",
              "      <td>1737.385346</td>\n",
              "      <td>261349.605449</td>\n",
              "      <td>87551.375175</td>\n",
              "      <td>22.409110</td>\n",
              "      <td>0.702906</td>\n",
              "      <td>1.370704</td>\n",
              "      <td>1.0</td>\n",
              "      <td>66.193698</td>\n",
              "      <td>Moderate</td>\n",
              "    </tr>\n",
              "    <tr>\n",
              "      <th>4</th>\n",
              "      <td>2023-07-02</td>\n",
              "      <td>Fish Carrier</td>\n",
              "      <td>Transoceanic</td>\n",
              "      <td>Diesel</td>\n",
              "      <td>Fair</td>\n",
              "      <td>13.742777</td>\n",
              "      <td>1089.721803</td>\n",
              "      <td>1445.281159</td>\n",
              "      <td>9.727833</td>\n",
              "      <td>Moderate</td>\n",
              "      <td>260.595103</td>\n",
              "      <td>287718.375160</td>\n",
              "      <td>676121.459632</td>\n",
              "      <td>64.158231</td>\n",
              "      <td>1.331343</td>\n",
              "      <td>0.583383</td>\n",
              "      <td>8.0</td>\n",
              "      <td>80.008581</td>\n",
              "      <td>Low</td>\n",
              "    </tr>\n",
              "  </tbody>\n",
              "</table>\n",
              "</div>"
            ],
            "text/plain": [
              "         Date       Ship_Type    Route_Type           Engine_Type  \\\n",
              "0  2023-06-04  Container Ship     Long-haul  Heavy Fuel Oil (HFO)   \n",
              "1  2023-06-11    Fish Carrier    Short-haul         Steam Turbine   \n",
              "2  2023-06-18  Container Ship     Long-haul                Diesel   \n",
              "3  2023-06-25    Bulk Carrier  Transoceanic         Steam Turbine   \n",
              "4  2023-07-02    Fish Carrier  Transoceanic                Diesel   \n",
              "\n",
              "  Maintenance_Status  Speed_Over_Ground_knots  Engine_Power_kW  \\\n",
              "0           Critical                12.597558      2062.983982   \n",
              "1               Good                10.387580      1796.057415   \n",
              "2               Fair                20.749747      1648.556685   \n",
              "3               Fair                21.055102       915.261795   \n",
              "4               Fair                13.742777      1089.721803   \n",
              "\n",
              "   Distance_Traveled_nm  Draft_meters Weather_Condition  Cargo_Weight_tons  \\\n",
              "0           1030.943616     14.132284          Moderate        1959.017882   \n",
              "1           1060.486382     14.653083             Rough         162.394712   \n",
              "2            658.874144      7.199261          Moderate         178.040917   \n",
              "3           1126.822519     11.789063          Moderate        1737.385346   \n",
              "4           1445.281159      9.727833          Moderate         260.595103   \n",
              "\n",
              "   Operational_Cost_USD  Revenue_per_Voyage_USD  Turnaround_Time_hours  \\\n",
              "0         483832.354540           292183.273104              25.867077   \n",
              "1         483388.000509           883765.787360              63.248196   \n",
              "2         448543.404044           394018.746904              49.418150   \n",
              "3         261349.605449            87551.375175              22.409110   \n",
              "4         287718.375160           676121.459632              64.158231   \n",
              "\n",
              "   Efficiency_nm_per_kWh  Seasonal_Impact_Score  Weekly_Voyage_Count  \\\n",
              "0               1.455179               1.415653                  1.0   \n",
              "1               0.290361               0.885648                  6.0   \n",
              "2               0.499595               1.405813                  9.0   \n",
              "3               0.702906               1.370704                  1.0   \n",
              "4               1.331343               0.583383                  8.0   \n",
              "\n",
              "   Average_Load_Percentage Ship_Performance  \n",
              "0                93.769249         Moderate  \n",
              "1                93.895372              Low  \n",
              "2                96.218244              Low  \n",
              "3                66.193698         Moderate  \n",
              "4                80.008581              Low  "
            ]
          },
          "execution_count": 44,
          "metadata": {},
          "output_type": "execute_result"
        }
      ],
      "source": [
        "df = pd.read_csv(\"df_clustered.csv\")\n",
        "df.head()"
      ]
    },
    {
      "cell_type": "markdown",
      "metadata": {
        "id": "KkPem5eWL2UP"
      },
      "source": [
        "# **3. Data Splitting**"
      ]
    },
    {
      "cell_type": "markdown",
      "metadata": {
        "id": "YYj1rl_JNI9Y"
      },
      "source": [
        "Tahap Data Splitting bertujuan untuk memisahkan dataset menjadi dua bagian: data latih (training set) dan data uji (test set)."
      ]
    },
    {
      "cell_type": "markdown",
      "metadata": {},
      "source": [
        "### Encoding Variabel Kategorik\n",
        "Sebelum melakukan analisis data, dilakukan Encoding pada fitur kategorik untuk mengonversi data kategorik menjadi numerik agar dapat diproses oleh algoritma."
      ]
    },
    {
      "cell_type": "code",
      "execution_count": 45,
      "metadata": {
        "id": "OubAW-7ONKVj"
      },
      "outputs": [],
      "source": [
        "categorical_cols = ['Ship_Type', 'Route_Type', 'Engine_Type', 'Maintenance_Status', 'Weather_Condition']\n",
        "label_encoders = {}\n",
        "\n",
        "for col in categorical_cols:\n",
        "    le = LabelEncoder()\n",
        "    df[col] = le.fit_transform(df[col])\n",
        "    label_encoders[col] = le"
      ]
    },
    {
      "cell_type": "markdown",
      "metadata": {},
      "source": [
        "### Splitting Variabel Fitur dan Target"
      ]
    },
    {
      "cell_type": "code",
      "execution_count": 46,
      "metadata": {},
      "outputs": [],
      "source": [
        "X = df[['Speed_Over_Ground_knots', 'Engine_Power_kW', 'Distance_Traveled_nm',\n",
        "       'Draft_meters', 'Cargo_Weight_tons', 'Operational_Cost_USD', \n",
        "       'Revenue_per_Voyage_USD', 'Turnaround_Time_hours', 'Efficiency_nm_per_kWh',\n",
        "       'Seasonal_Impact_Score', 'Weekly_Voyage_Count', 'Average_Load_Percentage'] + categorical_cols]\n",
        "\n",
        "y = df['Ship_Performance']"
      ]
    },
    {
      "cell_type": "markdown",
      "metadata": {},
      "source": [
        "Selanjutnya dilakukan juga standarisasi pada fitur numerik untuk menyamakan skala variabel numerik untuk mengoptimalkan model."
      ]
    },
    {
      "cell_type": "code",
      "execution_count": 47,
      "metadata": {},
      "outputs": [],
      "source": [
        "scaler = StandardScaler()\n",
        "X_scaled = scaler.fit_transform(X)"
      ]
    },
    {
      "cell_type": "markdown",
      "metadata": {},
      "source": [
        "Pada analisis ini digunakan split data latih dan data uji dengan perbandingan 80:20."
      ]
    },
    {
      "cell_type": "code",
      "execution_count": 48,
      "metadata": {},
      "outputs": [],
      "source": [
        "X_train, X_test, y_train, y_test = train_test_split(X_scaled, y, test_size=0.2, random_state=42)"
      ]
    },
    {
      "cell_type": "markdown",
      "metadata": {
        "id": "IVPbB03CMhTT"
      },
      "source": [
        "# **4. Membangun Model Klasifikasi**\n"
      ]
    },
    {
      "cell_type": "markdown",
      "metadata": {
        "id": "Ned1pL9zMmBK"
      },
      "source": [
        "## **a. Membangun Model Klasifikasi**"
      ]
    },
    {
      "cell_type": "markdown",
      "metadata": {
        "id": "WAWzPOE4Nkti"
      },
      "source": [
        "Setelah memilih algoritma klasifikasi yang sesuai, langkah selanjutnya adalah melatih model menggunakan data latih.\n",
        "\n",
        "Berikut adalah rekomendasi tahapannya.\n",
        "1. Pilih algoritma klasifikasi yang sesuai, seperti Logistic Regression, Decision Tree, Random Forest, atau K-Nearest Neighbors (KNN).\n",
        "2. Latih model menggunakan data latih."
      ]
    },
    {
      "cell_type": "markdown",
      "metadata": {},
      "source": [
        "#### Decision Tree"
      ]
    },
    {
      "cell_type": "markdown",
      "metadata": {},
      "source": [
        "Model ini bekerja dengan membagi data berdasarkan aturan berbasis pohon keputusan, di mana setiap percabangan mewakili kondisi yang memisahkan kelas-kelas dalam dataset."
      ]
    },
    {
      "cell_type": "code",
      "execution_count": 49,
      "metadata": {},
      "outputs": [],
      "source": [
        "dt_model = DecisionTreeClassifier(random_state=42)\n",
        "dt_model.fit(X_train, y_train)\n",
        "\n",
        "y_pred_dt = dt_model.predict(X_test)"
      ]
    },
    {
      "cell_type": "markdown",
      "metadata": {},
      "source": [
        "#### Support Vector Machine (SVM)"
      ]
    },
    {
      "cell_type": "markdown",
      "metadata": {},
      "source": [
        "SVM menggunakan hyperplane untuk memisahkan kelas dalam ruang fitur, dengan tujuan memaksimalkan margin antara kelas yang berbeda. "
      ]
    },
    {
      "cell_type": "code",
      "execution_count": 50,
      "metadata": {},
      "outputs": [],
      "source": [
        "svm_model = SVC(kernel='rbf', random_state=42)\n",
        "svm_model.fit(X_train, y_train)\n",
        "\n",
        "y_pred_svm = svm_model.predict(X_test)\n",
        "acc_svm = accuracy_score(y_test, y_pred_svm)"
      ]
    },
    {
      "cell_type": "markdown",
      "metadata": {},
      "source": [
        "#### Naive Bayes"
      ]
    },
    {
      "cell_type": "markdown",
      "metadata": {},
      "source": [
        "Model ini didasarkan pada teorema Bayes, dengan asumsi bahwa setiap fitur bersifat independen satu sama lain. "
      ]
    },
    {
      "cell_type": "code",
      "execution_count": 51,
      "metadata": {},
      "outputs": [],
      "source": [
        "nb_model = GaussianNB()\n",
        "nb_model.fit(X_train, y_train)\n",
        "\n",
        "y_pred_nb = nb_model.predict(X_test)\n",
        "acc_nb = accuracy_score(y_test, y_pred_nb)"
      ]
    },
    {
      "cell_type": "markdown",
      "metadata": {
        "id": "ergzChZFEL-O"
      },
      "source": [
        "## **b. Evaluasi Model Klasifikasi**"
      ]
    },
    {
      "cell_type": "markdown",
      "metadata": {
        "id": "zOm68u-7NpLT"
      },
      "source": [
        "Berikut adalah **rekomendasi** tahapannya.\n",
        "1. Lakukan prediksi menggunakan data uji.\n",
        "2. Hitung metrik evaluasi seperti Accuracy dan F1-Score (Opsional: Precision dan Recall).\n",
        "3. Buat confusion matrix untuk melihat detail prediksi benar dan salah."
      ]
    },
    {
      "cell_type": "markdown",
      "metadata": {},
      "source": [
        "#### Decision Tree"
      ]
    },
    {
      "cell_type": "code",
      "execution_count": 52,
      "metadata": {},
      "outputs": [
        {
          "name": "stdout",
          "output_type": "stream",
          "text": [
            "Model: Decision Tree\n",
            "Accuracy: 0.9033\n",
            "Classification Report:\n",
            "              precision    recall  f1-score   support\n",
            "\n",
            "        High       0.89      0.87      0.88       169\n",
            "         Low       0.92      0.86      0.89       154\n",
            "    Moderate       0.90      0.96      0.93       225\n",
            "\n",
            "    accuracy                           0.90       548\n",
            "   macro avg       0.90      0.90      0.90       548\n",
            "weighted avg       0.90      0.90      0.90       548\n",
            "\n"
          ]
        }
      ],
      "source": [
        "acc_dt = accuracy_score(y_test, y_pred_dt)\n",
        "print(\"Model: Decision Tree\")\n",
        "print(f\"Accuracy: {acc_dt:.4f}\")\n",
        "print(\"Classification Report:\")\n",
        "print(classification_report(y_test, y_pred_dt))"
      ]
    },
    {
      "cell_type": "code",
      "execution_count": 53,
      "metadata": {},
      "outputs": [
        {
          "data": {
            "image/png": "[encoded data removed]",
            "text/plain": [
              "<Figure size 600x400 with 2 Axes>"
            ]
          },
          "metadata": {},
          "output_type": "display_data"
        }
      ],
      "source": [
        "cm_dt = confusion_matrix(y_test, y_pred_dt)\n",
        "\n",
        "plt.figure(figsize=(6,4))\n",
        "sns.heatmap(cm_dt, annot=True, fmt=\"d\", cmap=\"Blues\", xticklabels=set(y_test), yticklabels=set(y_test))\n",
        "plt.title(\"Confusion Matrix - Decision Tree\")\n",
        "plt.xlabel(\"Predicted\")\n",
        "plt.ylabel(\"Actual\")\n",
        "plt.show()"
      ]
    },
    {
      "cell_type": "markdown",
      "metadata": {},
      "source": [
        "#### SVM"
      ]
    },
    {
      "cell_type": "code",
      "execution_count": 54,
      "metadata": {},
      "outputs": [
        {
          "name": "stdout",
          "output_type": "stream",
          "text": [
            "Model: SVM\n",
            "Accuracy: 0.9544\n",
            "Classification Report:\n",
            "              precision    recall  f1-score   support\n",
            "\n",
            "        High       0.93      0.98      0.95       169\n",
            "         Low       0.99      0.87      0.93       154\n",
            "    Moderate       0.95      0.99      0.97       225\n",
            "\n",
            "    accuracy                           0.95       548\n",
            "   macro avg       0.96      0.95      0.95       548\n",
            "weighted avg       0.96      0.95      0.95       548\n",
            "\n"
          ]
        }
      ],
      "source": [
        "print(\"Model: SVM\")\n",
        "print(f\"Accuracy: {acc_svm:.4f}\")\n",
        "print(\"Classification Report:\")\n",
        "print(classification_report(y_test, y_pred_svm))"
      ]
    },
    {
      "cell_type": "code",
      "execution_count": 55,
      "metadata": {},
      "outputs": [
        {
          "data": {
            "image/png": "[encoded data removed]",
            "text/plain": [
              "<Figure size 600x400 with 2 Axes>"
            ]
          },
          "metadata": {},
          "output_type": "display_data"
        }
      ],
      "source": [
        "cm_svm = confusion_matrix(y_test, y_pred_svm)\n",
        "\n",
        "plt.figure(figsize=(6,4))\n",
        "sns.heatmap(cm_svm, annot=True, fmt=\"d\", cmap=\"Blues\", xticklabels=set(y_test), yticklabels=set(y_test))\n",
        "plt.title(\"Confusion Matrix - SVM\")\n",
        "plt.xlabel(\"Predicted\")\n",
        "plt.ylabel(\"Actual\")\n",
        "plt.show()"
      ]
    },
    {
      "cell_type": "markdown",
      "metadata": {},
      "source": [
        "#### Naive bayes"
      ]
    },
    {
      "cell_type": "code",
      "execution_count": 56,
      "metadata": {},
      "outputs": [
        {
          "name": "stdout",
          "output_type": "stream",
          "text": [
            "Model: Naive Bayes\n",
            "Accuracy: 0.9361\n",
            "Classification Report:\n",
            "              precision    recall  f1-score   support\n",
            "\n",
            "        High       0.92      0.92      0.92       169\n",
            "         Low       0.96      0.88      0.92       154\n",
            "    Moderate       0.93      0.99      0.96       225\n",
            "\n",
            "    accuracy                           0.94       548\n",
            "   macro avg       0.94      0.93      0.93       548\n",
            "weighted avg       0.94      0.94      0.94       548\n",
            "\n"
          ]
        }
      ],
      "source": [
        "print(\"Model: Naive Bayes\")\n",
        "print(f\"Accuracy: {acc_nb:.4f}\")\n",
        "print(\"Classification Report:\")\n",
        "print(classification_report(y_test, y_pred_nb))"
      ]
    },
    {
      "cell_type": "code",
      "execution_count": 57,
      "metadata": {},
      "outputs": [
        {
          "data": {
            "image/png": "[encoded data removed]",
            "text/plain": [
              "<Figure size 600x400 with 2 Axes>"
            ]
          },
          "metadata": {},
          "output_type": "display_data"
        }
      ],
      "source": [
        "cm_nb = confusion_matrix(y_test, y_pred_nb)\n",
        "\n",
        "plt.figure(figsize=(6,4))\n",
        "sns.heatmap(cm_nb, annot=True, fmt=\"d\", cmap=\"Blues\", xticklabels=set(y_test), yticklabels=set(y_test))\n",
        "plt.title(\"Confusion Matrix - Naive Bayes\")\n",
        "plt.xlabel(\"Predicted\")\n",
        "plt.ylabel(\"Actual\")\n",
        "plt.show()"
      ]
    },
    {
      "cell_type": "markdown",
      "metadata": {
        "id": "ph9yIYDXEPuB"
      },
      "source": [
        "## **c. Tuning Model Klasifikasi (Optional)**"
      ]
    },
    {
      "cell_type": "markdown",
      "metadata": {
        "id": "hE7pqlEPEYzI"
      },
      "source": [
        "## **d. Evaluasi Model Klasifikasi setelah Tuning (Optional)**"
      ]
    },
    {
      "cell_type": "markdown",
      "metadata": {
        "id": "ZRsOdm4uEgAW"
      },
      "source": [
        "## **e. Analisis Hasil Evaluasi Model Klasifikasi**"
      ]
    },
    {
      "cell_type": "markdown",
      "metadata": {},
      "source": [
        "**Identifikasi Kelemahan Model**  \n",
        "\n",
        "1. **Decision Tree**  \n",
        "   - Kelemahan:  \n",
        "     - Akurasi cukup baik (90.83%) namun masih terdapat kesalahan klasifikasi pada kelas \"Low\" dan \"High\".\n",
        "     - F1-score untuk kelas \"Low\" (0.84) lebih rendah dibandingkan kelas lainnya, menunjukkan kesulitan model dalam mengenali kapal berperforma rendah.  \n",
        "   - Indikasi Overfitting:  Berisiko overfitting tetapi tergolong aman.  \n",
        "\n",
        "2. **SVM**\n",
        "   - Kelemahan: \n",
        "     - Performa sangat baik secara keseluruhan (akurasi 95.44%), namun recall pada kelas \"Low\" (0.87) sedikit lebih rendah, mengindikasikan masih ada data kelas \"Low\" yang salah klasifikasi.  \n",
        "     - Model SVM cenderung sensitif terhadap data yang tidak sepenuhnya terpisah secara linier, yang mungkin menyebabkan prediksi kurang akurat.  \n",
        "   - Indikasi Overfitting/Underfitting:  Tidak ada indikasi overfitting. Model cukup stabil dan generalizable, tetapi performa masih bisa meningkat di kelas tertentu. \n",
        "\n",
        "3. **Naive Bayes**  \n",
        "   - Kelemahan:\n",
        "     - Akurasi baik (93.61%), namun masih terjadi kesalahan klasifikasi pada kelas \"Moderate\", terutama precision yang sedikit lebih rendah (0.93).  \n",
        "     - Asumsi independensi antar fitur dalam Naive Bayes mungkin tidak sepenuhnya berlaku, menyebabkan sedikit kesalahan klasifikasi.  \n",
        "   - Indikasi Overfitting/Underfitting:  Model cukup seimbang, tetapi bisa lebih baik jika fitur yang sangat berkorelasi dihilangkan atau dilakukan feature engineering.  \n",
        "\n",
        "### **Rekomendasi Tindakan Lanjutan**  \n",
        "\n",
        "1. Untuk Decision Tree: \n",
        "   - Lakukan pruning untuk mengurangi kompleksitas pohon dan menghindari overfitting.  \n",
        "   - Coba Random Forest sebagai alternatif yang lebih stabil dengan agregasi beberapa pohon keputusan.  \n",
        "\n",
        "2. Untuk SVM:  \n",
        "   - Eksperimen dengan berbagai jenis kernel (misalnya polynomial atau sigmoid) untuk meningkatkan performa pada data yang tidak sepenuhnya terpisah secara linier.  \n",
        "\n",
        "3. Untuk Naive Bayes:\n",
        "   - Tambahkan fitur baru atau lakukan feature selection untuk mengurangi pengaruh asumsi independensi antar fitur.   \n",
        "\n",
        "4. Secara Keseluruhan:  \n",
        "   - Tambahkan lebih banyak data untuk meningkatkan generalisasi model dan melakukan cross-validation. \n",
        "   - Eksplorasi seperti Gradient Boosting (XGBoost) atau Neural Networks jika diperlukan peningkatan performa lebih lanjut."
      ]
    }
  ],
  "metadata": {
    "colab": {
      "provenance": []
    },
    "kernelspec": {
      "display_name": "base",
      "language": "python",
      "name": "python3"
    },
    "language_info": {
      "codemirror_mode": {
        "name": "ipython",
        "version": 3
      },
      "file_extension": ".py",
      "mimetype": "text/x-python",
      "name": "python",
      "nbconvert_exporter": "python",
      "pygments_lexer": "ipython3",
      "version": "3.11.5"
    }
  },
  "nbformat": 4,
  "nbformat_minor": 0
}
